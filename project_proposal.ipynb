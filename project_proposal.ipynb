{
 "cells": [
  {
   "cell_type": "markdown",
   "metadata": {},
   "source": [
    "### Group 12 Project Proposal: \n",
    "**Bank Marketing Classification**"
   ]
  },
  {
   "cell_type": "markdown",
   "metadata": {},
   "source": [
    "**Introduction**\n",
    "\n",
    "*Provide some relevant background information on the topic so that someone unfamiliar with it will be prepared to understand the rest of your proposal:*\n",
    "\n",
    "Phone-based direct marketing campaigns from a Portuguese banking institution asked clients questions about themselves (ex. Age, job, etc.). The result of the marketing campaign was 45211 responses from clients.\n",
    "\n",
    "*Clearly state the question you will try to answer with your project:*\n",
    "\n",
    "Based on the predictors, will a given person subscribe to a term deposit or not?\n",
    "\n",
    "*Identify and describe the dataset that will be used to answer the question:*\n",
    "\n",
    "We will be using  bank-additional.csv because it contains 4119 rows (compared to the full (41188 rows of the complete dataset). Using this dataset will cause the server to run smoother as well as avoid overplotting.  \n",
    "\n"
   ]
  },
  {
   "cell_type": "markdown",
   "metadata": {},
   "source": [
    "**Preliminary Exploratory Data Analysis**"
   ]
  },
  {
   "cell_type": "code",
   "execution_count": null,
   "metadata": {},
   "outputs": [
    {
     "name": "stderr",
     "output_type": "stream",
     "text": [
      "── \u001b[1mAttaching packages\u001b[22m ─────────────────────────────────────── tidyverse 1.3.0 ──\n",
      "\n",
      "\u001b[32m✔\u001b[39m \u001b[34mggplot2\u001b[39m 3.3.2     \u001b[32m✔\u001b[39m \u001b[34mpurrr  \u001b[39m 0.3.4\n",
      "\u001b[32m✔\u001b[39m \u001b[34mtibble \u001b[39m 3.0.3     \u001b[32m✔\u001b[39m \u001b[34mdplyr  \u001b[39m 1.0.2\n",
      "\u001b[32m✔\u001b[39m \u001b[34mtidyr  \u001b[39m 1.1.2     \u001b[32m✔\u001b[39m \u001b[34mstringr\u001b[39m 1.4.0\n",
      "\u001b[32m✔\u001b[39m \u001b[34mreadr  \u001b[39m 1.3.1     \u001b[32m✔\u001b[39m \u001b[34mforcats\u001b[39m 0.5.0\n",
      "\n",
      "Warning message:\n",
      "“package ‘ggplot2’ was built under R version 4.0.1”\n",
      "Warning message:\n",
      "“package ‘tibble’ was built under R version 4.0.2”\n",
      "Warning message:\n",
      "“package ‘tidyr’ was built under R version 4.0.2”\n",
      "Warning message:\n",
      "“package ‘dplyr’ was built under R version 4.0.2”\n",
      "── \u001b[1mConflicts\u001b[22m ────────────────────────────────────────── tidyverse_conflicts() ──\n",
      "\u001b[31m✖\u001b[39m \u001b[34mdplyr\u001b[39m::\u001b[32mfilter()\u001b[39m masks \u001b[34mstats\u001b[39m::filter()\n",
      "\u001b[31m✖\u001b[39m \u001b[34mdplyr\u001b[39m::\u001b[32mlag()\u001b[39m    masks \u001b[34mstats\u001b[39m::lag()\n",
      "\n",
      "Warning message:\n",
      "“package ‘tidymodels’ was built under R version 4.0.2”\n"
     ]
    }
   ],
   "source": [
    "library(tidyverse)\n",
    "library(tidymodels)"
   ]
  },
  {
   "cell_type": "code",
   "execution_count": null,
   "metadata": {},
   "outputs": [],
   "source": [
    "data <- read_csv2(\"https://drive.google.com/u/0/uc?id=1r8z-f85larbfItrABtwmpBeNK_TSDNO1&export=download\")\n",
    "head(data, 10)"
   ]
  },
  {
   "cell_type": "code",
   "execution_count": null,
   "metadata": {},
   "outputs": [],
   "source": [
    "data <- mutate(data, subscribed = y)\n",
    "data <- select(data, \"age\", 'duration', 'emp.var.rate', 'cons.price.idx', 'cons.conf.idx', 'euribor3m', 'nr.employed', 'subscribed')\n",
    "#head(data, 10)"
   ]
  },
  {
   "cell_type": "code",
   "execution_count": null,
   "metadata": {},
   "outputs": [],
   "source": [
    "bank_split <- initial_split(data, prop = 0.50, strata = subscribed)\n",
    "bank_train <- training(bank_split)\n",
    "bank_test <- testing(bank_split)\n",
    "head(bank_train, 15) #3090x11\n",
    "# bank_test 1029x11"
   ]
  },
  {
   "cell_type": "code",
   "execution_count": null,
   "metadata": {},
   "outputs": [],
   "source": [
    "group_by(bank_train, subscribed) %>% summarize(count=n())"
   ]
  },
  {
   "cell_type": "code",
   "execution_count": null,
   "metadata": {},
   "outputs": [],
   "source": [
    "bank_recipe <- recipe(subscribed ~ duration + age , data = bank_train) %>%\n",
    "    step_scale(all_predictors()) %>%\n",
    "    step_center(all_predictors()) %>%\n",
    "    prep()\n",
    "\n",
    "scaled_bank <- bake(bank_recipe, bank_train)\n",
    "ggplot(scaled_bank, aes(x=age, y=duration, color = subscribed)) +\n",
    "    geom_point(alpha=0.6) + \n",
    "    labs(x=\"Age (Scaled)\", y= \"Duration of call in seconds (Scaled)\", color = \"Subscribed\") + \n",
    "    ggtitle(\"Age vs Duration of call\") + \n",
    "    theme(text = element_text(size=18), plot.title = element_text(hjust = 0.5))"
   ]
  },
  {
   "cell_type": "markdown",
   "metadata": {},
   "source": [
    "**Methods**\n",
    "\n",
    "*Explain how you will conduct either your data analysis and which variables/columns you will use. Note - you do not need to use all variables/columns that exist in the raw data set. In fact, that's often not a good idea. For each variable think: is this a useful variable for prediction?*\n",
    "\n",
    "We will be using bank_addition.csv and **keeping** the following columns. We believe that these variables will influence the prediction the most and will greatly affect the predictor’s accuracy: \n",
    "\n",
    "* `age`: the age of the client\n",
    "* `job`: the job type held (ex. admin, blue-collar, etc.)\n",
    "* `marital status`: marital status\n",
    "* `education`: level of education\n",
    "* `default`: does the client have credit in default?\n",
    "* `housing`: does the client have a housing loan?\n",
    "* `loan`: does the client have a personal loan?\n",
    "* `month`: month the client was contacted during\n",
    "* `campaigns`: number of times this client was contacted for this campaign\n",
    "* `poutcome`: outcome of the previous marketing campaign\n",
    "* `y`: did the client sunscribe to a term deposit (categorical labels)\n",
    "\n",
    "The following columns will be **omitted** when tidying our data. We believe that these variables are unnecessary in that they will have little to no effect on the prediction:\n",
    "\n",
    "* `contact`: was the client contacted through a cellphone or telephone? \n",
    "* `day_of_week`: day of the week the client was last contacted on\n",
    "* `duration`: duration of the last phone call, in seconds \n",
    "* `pdays`: number of days since the client was last contacted from a previous call\n",
    "* `previous`: number of times this client was contacted before this campaign\n",
    "* `emp.var.rate`: employment variation rate\n",
    "* `cons.price.idx`: consumer price index\n",
    "* `cons.conf.idx`: consumer confidence index\n",
    "* `euribor3m`: euribor 3 month rate\n",
    "* `nr.employed`: number of employees\n",
    "\n",
    "*Describe at least one way that you will visualize the results:*\n",
    "\n",
    "We will be creating a scatterplot that shows two different coloured groups in a way that we can see where our prediction is relative to the two groups (yes or no). \n"
   ]
  },
  {
   "cell_type": "markdown",
   "metadata": {},
   "source": [
    "**Expected Outcomes and Significance:**\n",
    "\n",
    "*What do you expect to find?*\n",
    "\n",
    "We expect to find that age, job, education, and marital status to have the greatest influence on the accuracy of the model. \n",
    "\n",
    "*What impact could such findings have?*\n",
    "\n",
    "Our findings could be useful for advertising purposes, where companies would cater to a particular demographic if they knew that they would be the most likely to subscribe to a term deposit. \n",
    "\n",
    "*What future questions could this lead to?*\n",
    "\n",
    "Why do these variables influence whether or not someone subscribes to a term deposit in the first place? \n"
   ]
  }
 ],
 "metadata": {
  "kernelspec": {
   "display_name": "R",
   "language": "R",
   "name": "ir"
  },
  "language_info": {
   "codemirror_mode": "r",
   "file_extension": ".r",
   "mimetype": "text/x-r-source",
   "name": "R",
   "pygments_lexer": "r",
   "version": "4.0.0"
  }
 },
 "nbformat": 4,
 "nbformat_minor": 4
}
